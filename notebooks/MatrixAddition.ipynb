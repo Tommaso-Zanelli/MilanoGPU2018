{
 "cells": [
  {
   "cell_type": "markdown",
   "metadata": {},
   "source": [
    "# License\n",
    "\n",
    "    Jupyter notebook for accessing CUDA\n",
    "    Copyright (C) 2018 Andre.Brodtkorb@ifi.uio.no\n",
    "\n",
    "    This program is free software: you can redistribute it and/or modify\n",
    "    it under the terms of the GNU General Public License as published by\n",
    "    the Free Software Foundation, either version 3 of the License, or\n",
    "    (at your option) any later version.\n",
    "\n",
    "    This program is distributed in the hope that it will be useful,\n",
    "    but WITHOUT ANY WARRANTY; without even the implied warranty of\n",
    "    MERCHANTABILITY or FITNESS FOR A PARTICULAR PURPOSE.  See the\n",
    "    GNU General Public License for more details.\n",
    "\n",
    "    You should have received a copy of the GNU General Public License\n",
    "    along with this program.  If not, see <http://www.gnu.org/licenses/>."
   ]
  },
  {
   "cell_type": "code",
   "execution_count": 46,
   "metadata": {},
   "outputs": [],
   "source": [
    "#Lets have matplotlib \"inline\"\n",
    "%matplotlib inline\n",
    "\n",
    "#Import packages we need\n",
    "import numpy as np\n",
    "import pycuda.compiler as cuda_compiler\n",
    "from pycuda.gpuarray import GPUArray\n",
    "import pycuda.driver as cuda_driver\n",
    "\n",
    "from matplotlib import pyplot as plt"
   ]
  },
  {
   "cell_type": "code",
   "execution_count": 47,
   "metadata": {},
   "outputs": [],
   "source": [
    "#Initialize CUDA - must be first call to CUDA!\n",
    "cuda_driver.init()"
   ]
  },
  {
   "cell_type": "code",
   "execution_count": 48,
   "metadata": {},
   "outputs": [
    {
     "name": "stdout",
     "output_type": "stream",
     "text": [
      "Using 'Tesla K80'\n",
      " => compute capability: (3, 7)\n",
      " => memory: 9009 / 11441 MB available\n"
     ]
    }
   ],
   "source": [
    "#Create CUDA context\n",
    "cuda_device = cuda_driver.Device(0)\n",
    "print(\"Using '{:s}'\".format(cuda_device.name()))\n",
    "print(\" => compute capability: {:s}\".format(str(cuda_device.compute_capability())))\n",
    "context = cuda_device.make_context()\n",
    "free, total = cuda_driver.mem_get_info()\n",
    "print(\" => memory: {:d} / {:d} MB available\".format(int(free/(1024*1024)), int(total/(1024*1024))))"
   ]
  },
  {
   "cell_type": "code",
   "execution_count": 49,
   "metadata": {},
   "outputs": [],
   "source": [
    "cuda_kernel = \"\"\"\n",
    "__global__ void addVectorKernel(float* c, float* a, float* b) {\n",
    "    unsigned int i = blockIdx.x*blockDim.x + threadIdx.x;\n",
    "    c[i] = a[i] + b[i];\n",
    "}\n",
    "\n",
    "__global__ void addMatrixKernel(float* c, float* a, float* b, int cols) {\n",
    "    unsigned int i = blockIdx.x*blockDim.x + threadIdx.x;\n",
    "    unsigned int j = blockIdx.y*blockDim.y + threadIdx.y;\n",
    "    \n",
    "    // Pseudocode\n",
    "    // c[j][i] = a[j][i] + b[j][i]\n",
    "    unsigned int k = j * cols + i;\n",
    "    \n",
    "    c[k] = a[k] + b[k];\n",
    "}\n",
    "\"\"\"\n",
    "module = cuda_compiler.SourceModule(cuda_kernel)\n",
    "kernel = module.get_function(\"addMatrixKernel\");\n",
    "\n"
   ]
  },
  {
   "cell_type": "code",
   "execution_count": 50,
   "metadata": {},
   "outputs": [
    {
     "data": {
      "image/png": "[encoded data removed]",
      "text/plain": [
       "<matplotlib.figure.Figure at 0x7fe0d80f4eb8>"
      ]
     },
     "metadata": {
      "needs_background": "light"
     },
     "output_type": "display_data"
    }
   ],
   "source": [
    "#Size of our test\n",
    "test_size = (16, 24)\n",
    "\n",
    "#Create test input / output data\n",
    "a = np.random.random(test_size).astype(np.float32)\n",
    "b = np.random.random(test_size).astype(np.float32)\n",
    "c = np.empty_like(a)\n",
    "\n",
    "fig = plt.figure(figsize=(12,8))\n",
    "plt.imshow(a)\n",
    "plt.colorbar()\n",
    "fig.show()"
   ]
  },
  {
   "cell_type": "code",
   "execution_count": 51,
   "metadata": {},
   "outputs": [],
   "source": [
    "#Upload data to the device\n",
    "a_g = GPUArray(a.shape, np.float32)\n",
    "b_g = GPUArray(b.shape, np.float32)\n",
    "a_g.set(a)\n",
    "b_g.set(b)"
   ]
  },
  {
   "cell_type": "code",
   "execution_count": 52,
   "metadata": {},
   "outputs": [],
   "source": [
    "#Allocate output data\n",
    "c_g = GPUArray(c.shape, np.float32)"
   ]
  },
  {
   "cell_type": "code",
   "execution_count": 53,
   "metadata": {},
   "outputs": [
    {
     "name": "stdout",
     "output_type": "stream",
     "text": [
      "Domain size is (24, 16)\n",
      "Block size is (8, 4, 1)\n",
      "Grid size is (3, 4, 1)\n"
     ]
    }
   ],
   "source": [
    "#a.shape = [rows, columns] => [y, x]\n",
    "domain_size = (a.shape[1], a.shape[0])\n",
    "block_size = (8, 4, 1)#these need to be [x, y, z]\n",
    "grid_size = (domain_size[0] // block_size[0], domain_size[1] // block_size[1], 1)\n",
    "\n",
    "print(\"Domain size is \" + str(domain_size))\n",
    "print(\"Block size is \" + str(block_size))\n",
    "print(\"Grid size is \" + str(grid_size))"
   ]
  },
  {
   "cell_type": "code",
   "execution_count": 59,
   "metadata": {},
   "outputs": [
    {
     "data": {
      "text/plain": [
       "array([[0.6956429 , 0.841446  , 1.3983978 , 1.285835  , 0.83706605,\n",
       "        0.71610844, 1.1316993 , 0.37471953, 1.1401596 , 1.5666219 ,\n",
       "        1.112846  , 1.2582219 , 0.72973585, 1.1122998 , 1.0041381 ,\n",
       "        1.3813745 , 1.3979583 , 0.7580409 , 1.403221  , 0.3691594 ,\n",
       "        0.9590585 , 1.172891  , 0.3383187 , 0.5816625 ],\n",
       "       [1.3993813 , 1.3977745 , 0.93558705, 0.37102005, 0.94074   ,\n",
       "        0.470458  , 0.51002014, 0.9394821 , 0.14337751, 1.4792442 ,\n",
       "        1.1292748 , 1.5361241 , 0.8656486 , 1.5326238 , 0.44791234,\n",
       "        1.2360255 , 0.54266036, 1.3975059 , 0.51349986, 0.91632706,\n",
       "        1.6197228 , 1.107997  , 0.80434763, 1.7933236 ],\n",
       "       [0.8608991 , 0.12042236, 0.9548527 , 0.93102765, 1.1006222 ,\n",
       "        0.7634123 , 1.120172  , 0.83354986, 1.1274233 , 0.9493802 ,\n",
       "        0.9635695 , 1.0777266 , 1.6155121 , 1.4948566 , 0.75158393,\n",
       "        1.0674334 , 1.7340282 , 1.0949546 , 0.9942847 , 0.6936215 ,\n",
       "        1.0477324 , 1.0546738 , 0.939283  , 1.3691425 ],\n",
       "       [0.31899995, 0.6972499 , 1.0465322 , 1.3711846 , 0.1558276 ,\n",
       "        0.76435626, 0.6900214 , 1.4786918 , 0.6860862 , 0.37544054,\n",
       "        1.0081105 , 0.9005947 , 0.61174476, 1.9219332 , 1.5553308 ,\n",
       "        0.72354025, 1.6302083 , 1.458084  , 0.5579407 , 1.3743382 ,\n",
       "        1.318314  , 1.5902729 , 0.8946074 , 1.774419  ],\n",
       "       [1.0856793 , 1.1334496 , 0.9894654 , 0.65318835, 0.81161183,\n",
       "        1.4897664 , 0.8722101 , 1.3712819 , 1.9708627 , 0.9743917 ,\n",
       "        1.6830592 , 0.8662273 , 0.98009616, 1.4939134 , 0.81901556,\n",
       "        1.0436556 , 1.5302207 , 0.53049016, 0.5290611 , 0.9239372 ,\n",
       "        1.2432806 , 0.6974194 , 0.09440398, 0.8939177 ],\n",
       "       [1.3846874 , 1.2645535 , 1.0455132 , 0.65795857, 0.31376284,\n",
       "        1.1558107 , 1.0936981 , 0.7522404 , 0.21961333, 1.683985  ,\n",
       "        0.1459865 , 0.5297549 , 0.89437354, 1.0316939 , 0.49779886,\n",
       "        0.8439083 , 0.8068081 , 0.687909  , 1.2933805 , 1.1363882 ,\n",
       "        1.0611982 , 1.0765164 , 0.4044774 , 0.8416247 ],\n",
       "       [1.4861846 , 1.0804291 , 1.8088365 , 0.76194656, 1.4554213 ,\n",
       "        0.5369014 , 1.4188688 , 0.33806276, 1.0729486 , 1.3386432 ,\n",
       "        1.1407895 , 1.833595  , 1.3699182 , 1.058432  , 0.3463793 ,\n",
       "        1.4515966 , 1.397239  , 1.0914243 , 1.6344635 , 1.1126815 ,\n",
       "        0.6453274 , 1.3513379 , 0.97738045, 1.4614727 ],\n",
       "       [0.48522657, 1.1534909 , 1.2436304 , 1.0687182 , 1.6543875 ,\n",
       "        0.7865678 , 0.81864274, 1.0168276 , 0.4498942 , 1.7887263 ,\n",
       "        1.3384931 , 1.5260653 , 0.9199273 , 1.0968891 , 1.1310736 ,\n",
       "        0.94808495, 1.1383781 , 1.4162645 , 0.82176125, 0.834819  ,\n",
       "        1.4323905 , 1.3076324 , 0.66836095, 1.3293474 ],\n",
       "       [0.8563808 , 1.193489  , 0.79086477, 0.79116976, 0.92748594,\n",
       "        0.64900756, 0.67785835, 0.96264946, 0.98923135, 1.1022098 ,\n",
       "        0.45996943, 1.3895879 , 1.3543096 , 0.5765007 , 0.83888257,\n",
       "        1.3652537 , 1.4739347 , 0.6827197 , 1.1675451 , 1.5970542 ,\n",
       "        0.82523286, 0.8230989 , 1.5513929 , 1.8483901 ],\n",
       "       [1.2000456 , 0.5975737 , 1.256394  , 0.9619748 , 0.51456773,\n",
       "        1.1111424 , 1.0738897 , 0.17523515, 0.2611384 , 0.62600785,\n",
       "        1.0413144 , 0.8088835 , 1.0759162 , 0.965346  , 1.585183  ,\n",
       "        0.7792985 , 0.9558213 , 1.279463  , 1.5126212 , 0.49712005,\n",
       "        0.36450177, 1.5711439 , 0.35210454, 1.7689295 ],\n",
       "       [1.1497662 , 0.90473753, 0.61049134, 0.85517436, 1.7718942 ,\n",
       "        1.6929398 , 1.7047873 , 1.2701364 , 1.0482332 , 1.6529882 ,\n",
       "        1.4795692 , 1.7458422 , 0.9383366 , 1.3252405 , 1.708544  ,\n",
       "        0.2380687 , 1.141459  , 0.9981308 , 0.89160323, 1.5266638 ,\n",
       "        0.79923856, 0.9583179 , 1.1081749 , 0.5804169 ],\n",
       "       [0.22281207, 1.6167874 , 1.7562597 , 0.96758115, 1.184945  ,\n",
       "        1.4370146 , 1.3531735 , 1.6100576 , 1.9249058 , 1.1255237 ,\n",
       "        0.65776104, 0.7529499 , 1.1929994 , 1.2243731 , 0.8888605 ,\n",
       "        0.7896335 , 0.30238327, 0.4798728 , 1.451406  , 0.7026719 ,\n",
       "        1.6962552 , 1.8304856 , 1.1978984 , 0.77085364],\n",
       "       [0.8153858 , 1.378716  , 0.54030865, 1.6327767 , 1.3340629 ,\n",
       "        0.7997673 , 1.4373358 , 0.92337435, 0.8771603 , 0.60373074,\n",
       "        1.1654866 , 0.8258705 , 0.71122533, 0.6185085 , 0.6175121 ,\n",
       "        1.4978933 , 0.8726814 , 1.1127875 , 0.87319887, 0.51509213,\n",
       "        1.5004973 , 0.6068319 , 1.6648297 , 1.2770565 ],\n",
       "       [1.3110889 , 0.99544644, 1.4401706 , 1.1959414 , 0.25322524,\n",
       "        1.5685077 , 0.16156274, 0.92514455, 0.892448  , 0.51190037,\n",
       "        0.91010714, 0.8323515 , 1.1131145 , 0.9901191 , 1.6135149 ,\n",
       "        0.67361265, 0.78094596, 1.7927866 , 0.9347539 , 0.96553457,\n",
       "        1.8743932 , 1.179635  , 1.1647027 , 0.9511869 ],\n",
       "       [0.88194126, 1.0189778 , 0.51796424, 1.0971268 , 0.9049556 ,\n",
       "        0.5250181 , 1.1798804 , 1.3517509 , 0.2679048 , 0.78435344,\n",
       "        0.7203942 , 1.6461496 , 0.62860763, 0.6598731 , 1.3046576 ,\n",
       "        0.91461617, 0.974758  , 1.296537  , 0.8198813 , 1.1624708 ,\n",
       "        0.933814  , 1.3336682 , 1.2379494 , 1.1949514 ],\n",
       "       [0.79617035, 1.4760383 , 0.5215071 , 0.95977855, 0.35223413,\n",
       "        1.6945541 , 0.97547185, 1.2899973 , 1.1875635 , 0.92518246,\n",
       "        0.38813257, 0.86299944, 1.0520307 , 1.4184382 , 1.1813464 ,\n",
       "        1.0857987 , 1.6617231 , 1.184762  , 1.1026292 , 1.0205002 ,\n",
       "        1.0570467 , 1.2618872 , 0.7954553 , 0.94342947]], dtype=float32)"
      ]
     },
     "execution_count": 59,
     "metadata": {},
     "output_type": "execute_result"
    }
   ],
   "source": [
    "#Execute program on device \n",
    "kernel(c_g, a_g, b_g, np.int32(domain_size[0]), block=block_size, grid=grid_size)\n",
    "\n",
    "#Copy data from device to host \n",
    "c_g.get(c)"
   ]
  },
  {
   "cell_type": "markdown",
   "metadata": {},
   "source": [
    "#Execute program on device \n",
    "kernel(c_g, a_g, b_g, np.int32(domain_size[1]) dblock=block_size, grid=grid_size)\n",
    "\n",
    "#Copy data from device to host \n",
    "c_g.get(c)"
   ]
  },
  {
   "cell_type": "markdown",
   "metadata": {},
   "source": [
    "#Execute program on device\n",
    "kernel(c_g, a_g, b_g, np.int32(domain_size[1])), dblock=block_size, grid=grid_size)\n",
    "\n",
    "#Copy data from device to host\n",
    "c_g.get(c)"
   ]
  },
  {
   "cell_type": "code",
   "execution_count": 60,
   "metadata": {},
   "outputs": [
    {
     "name": "stdout",
     "output_type": "stream",
     "text": [
      "C   =  [[0.6956429  0.841446   1.3983978  1.285835   0.83706605 0.71610844\n",
      "  1.1316993  0.37471953 1.1401596  1.5666219  1.112846   1.2582219\n",
      "  0.72973585 1.1122998  1.0041381  1.3813745  1.3979583  0.7580409\n",
      "  1.403221   0.3691594  0.9590585  1.172891   0.3383187  0.5816625 ]\n",
      " [1.3993813  1.3977745  0.93558705 0.37102005 0.94074    0.470458\n",
      "  0.51002014 0.9394821  0.14337751 1.4792442  1.1292748  1.5361241\n",
      "  0.8656486  1.5326238  0.44791234 1.2360255  0.54266036 1.3975059\n",
      "  0.51349986 0.91632706 1.6197228  1.107997   0.80434763 1.7933236 ]\n",
      " [0.8608991  0.12042236 0.9548527  0.93102765 1.1006222  0.7634123\n",
      "  1.120172   0.83354986 1.1274233  0.9493802  0.9635695  1.0777266\n",
      "  1.6155121  1.4948566  0.75158393 1.0674334  1.7340282  1.0949546\n",
      "  0.9942847  0.6936215  1.0477324  1.0546738  0.939283   1.3691425 ]\n",
      " [0.31899995 0.6972499  1.0465322  1.3711846  0.1558276  0.76435626\n",
      "  0.6900214  1.4786918  0.6860862  0.37544054 1.0081105  0.9005947\n",
      "  0.61174476 1.9219332  1.5553308  0.72354025 1.6302083  1.458084\n",
      "  0.5579407  1.3743382  1.318314   1.5902729  0.8946074  1.774419  ]\n",
      " [1.0856793  1.1334496  0.9894654  0.65318835 0.81161183 1.4897664\n",
      "  0.8722101  1.3712819  1.9708627  0.9743917  1.6830592  0.8662273\n",
      "  0.98009616 1.4939134  0.81901556 1.0436556  1.5302207  0.53049016\n",
      "  0.5290611  0.9239372  1.2432806  0.6974194  0.09440398 0.8939177 ]\n",
      " [1.3846874  1.2645535  1.0455132  0.65795857 0.31376284 1.1558107\n",
      "  1.0936981  0.7522404  0.21961333 1.683985   0.1459865  0.5297549\n",
      "  0.89437354 1.0316939  0.49779886 0.8439083  0.8068081  0.687909\n",
      "  1.2933805  1.1363882  1.0611982  1.0765164  0.4044774  0.8416247 ]\n",
      " [1.4861846  1.0804291  1.8088365  0.76194656 1.4554213  0.5369014\n",
      "  1.4188688  0.33806276 1.0729486  1.3386432  1.1407895  1.833595\n",
      "  1.3699182  1.058432   0.3463793  1.4515966  1.397239   1.0914243\n",
      "  1.6344635  1.1126815  0.6453274  1.3513379  0.97738045 1.4614727 ]\n",
      " [0.48522657 1.1534909  1.2436304  1.0687182  1.6543875  0.7865678\n",
      "  0.81864274 1.0168276  0.4498942  1.7887263  1.3384931  1.5260653\n",
      "  0.9199273  1.0968891  1.1310736  0.94808495 1.1383781  1.4162645\n",
      "  0.82176125 0.834819   1.4323905  1.3076324  0.66836095 1.3293474 ]\n",
      " [0.8563808  1.193489   0.79086477 0.79116976 0.92748594 0.64900756\n",
      "  0.67785835 0.96264946 0.98923135 1.1022098  0.45996943 1.3895879\n",
      "  1.3543096  0.5765007  0.83888257 1.3652537  1.4739347  0.6827197\n",
      "  1.1675451  1.5970542  0.82523286 0.8230989  1.5513929  1.8483901 ]\n",
      " [1.2000456  0.5975737  1.256394   0.9619748  0.51456773 1.1111424\n",
      "  1.0738897  0.17523515 0.2611384  0.62600785 1.0413144  0.8088835\n",
      "  1.0759162  0.965346   1.585183   0.7792985  0.9558213  1.279463\n",
      "  1.5126212  0.49712005 0.36450177 1.5711439  0.35210454 1.7689295 ]\n",
      " [1.1497662  0.90473753 0.61049134 0.85517436 1.7718942  1.6929398\n",
      "  1.7047873  1.2701364  1.0482332  1.6529882  1.4795692  1.7458422\n",
      "  0.9383366  1.3252405  1.708544   0.2380687  1.141459   0.9981308\n",
      "  0.89160323 1.5266638  0.79923856 0.9583179  1.1081749  0.5804169 ]\n",
      " [0.22281207 1.6167874  1.7562597  0.96758115 1.184945   1.4370146\n",
      "  1.3531735  1.6100576  1.9249058  1.1255237  0.65776104 0.7529499\n",
      "  1.1929994  1.2243731  0.8888605  0.7896335  0.30238327 0.4798728\n",
      "  1.451406   0.7026719  1.6962552  1.8304856  1.1978984  0.77085364]\n",
      " [0.8153858  1.378716   0.54030865 1.6327767  1.3340629  0.7997673\n",
      "  1.4373358  0.92337435 0.8771603  0.60373074 1.1654866  0.8258705\n",
      "  0.71122533 0.6185085  0.6175121  1.4978933  0.8726814  1.1127875\n",
      "  0.87319887 0.51509213 1.5004973  0.6068319  1.6648297  1.2770565 ]\n",
      " [1.3110889  0.99544644 1.4401706  1.1959414  0.25322524 1.5685077\n",
      "  0.16156274 0.92514455 0.892448   0.51190037 0.91010714 0.8323515\n",
      "  1.1131145  0.9901191  1.6135149  0.67361265 0.78094596 1.7927866\n",
      "  0.9347539  0.96553457 1.8743932  1.179635   1.1647027  0.9511869 ]\n",
      " [0.88194126 1.0189778  0.51796424 1.0971268  0.9049556  0.5250181\n",
      "  1.1798804  1.3517509  0.2679048  0.78435344 0.7203942  1.6461496\n",
      "  0.62860763 0.6598731  1.3046576  0.91461617 0.974758   1.296537\n",
      "  0.8198813  1.1624708  0.933814   1.3336682  1.2379494  1.1949514 ]\n",
      " [0.79617035 1.4760383  0.5215071  0.95977855 0.35223413 1.6945541\n",
      "  0.97547185 1.2899973  1.1875635  0.92518246 0.38813257 0.86299944\n",
      "  1.0520307  1.4184382  1.1813464  1.0857987  1.6617231  1.184762\n",
      "  1.1026292  1.0205002  1.0570467  1.2618872  0.7954553  0.94342947]]\n",
      "Ref =  [[0.6956429  0.841446   1.3983978  1.285835   0.83706605 0.71610844\n",
      "  1.1316993  0.37471953 1.1401596  1.5666219  1.112846   1.2582219\n",
      "  0.72973585 1.1122998  1.0041381  1.3813745  1.3979583  0.7580409\n",
      "  1.403221   0.3691594  0.9590585  1.172891   0.3383187  0.5816625 ]\n",
      " [1.3993813  1.3977745  0.93558705 0.37102005 0.94074    0.470458\n",
      "  0.51002014 0.9394821  0.14337751 1.4792442  1.1292748  1.5361241\n",
      "  0.8656486  1.5326238  0.44791234 1.2360255  0.54266036 1.3975059\n",
      "  0.51349986 0.91632706 1.6197228  1.107997   0.80434763 1.7933236 ]\n",
      " [0.8608991  0.12042236 0.9548527  0.93102765 1.1006222  0.7634123\n",
      "  1.120172   0.83354986 1.1274233  0.9493802  0.9635695  1.0777266\n",
      "  1.6155121  1.4948566  0.75158393 1.0674334  1.7340282  1.0949546\n",
      "  0.9942847  0.6936215  1.0477324  1.0546738  0.939283   1.3691425 ]\n",
      " [0.31899995 0.6972499  1.0465322  1.3711846  0.1558276  0.76435626\n",
      "  0.6900214  1.4786918  0.6860862  0.37544054 1.0081105  0.9005947\n",
      "  0.61174476 1.9219332  1.5553308  0.72354025 1.6302083  1.458084\n",
      "  0.5579407  1.3743382  1.318314   1.5902729  0.8946074  1.774419  ]\n",
      " [1.0856793  1.1334496  0.9894654  0.65318835 0.81161183 1.4897664\n",
      "  0.8722101  1.3712819  1.9708627  0.9743917  1.6830592  0.8662273\n",
      "  0.98009616 1.4939134  0.81901556 1.0436556  1.5302207  0.53049016\n",
      "  0.5290611  0.9239372  1.2432806  0.6974194  0.09440398 0.8939177 ]\n",
      " [1.3846874  1.2645535  1.0455132  0.65795857 0.31376284 1.1558107\n",
      "  1.0936981  0.7522404  0.21961333 1.683985   0.1459865  0.5297549\n",
      "  0.89437354 1.0316939  0.49779886 0.8439083  0.8068081  0.687909\n",
      "  1.2933805  1.1363882  1.0611982  1.0765164  0.4044774  0.8416247 ]\n",
      " [1.4861846  1.0804291  1.8088365  0.76194656 1.4554213  0.5369014\n",
      "  1.4188688  0.33806276 1.0729486  1.3386432  1.1407895  1.833595\n",
      "  1.3699182  1.058432   0.3463793  1.4515966  1.397239   1.0914243\n",
      "  1.6344635  1.1126815  0.6453274  1.3513379  0.97738045 1.4614727 ]\n",
      " [0.48522657 1.1534909  1.2436304  1.0687182  1.6543875  0.7865678\n",
      "  0.81864274 1.0168276  0.4498942  1.7887263  1.3384931  1.5260653\n",
      "  0.9199273  1.0968891  1.1310736  0.94808495 1.1383781  1.4162645\n",
      "  0.82176125 0.834819   1.4323905  1.3076324  0.66836095 1.3293474 ]\n",
      " [0.8563808  1.193489   0.79086477 0.79116976 0.92748594 0.64900756\n",
      "  0.67785835 0.96264946 0.98923135 1.1022098  0.45996943 1.3895879\n",
      "  1.3543096  0.5765007  0.83888257 1.3652537  1.4739347  0.6827197\n",
      "  1.1675451  1.5970542  0.82523286 0.8230989  1.5513929  1.8483901 ]\n",
      " [1.2000456  0.5975737  1.256394   0.9619748  0.51456773 1.1111424\n",
      "  1.0738897  0.17523515 0.2611384  0.62600785 1.0413144  0.8088835\n",
      "  1.0759162  0.965346   1.585183   0.7792985  0.9558213  1.279463\n",
      "  1.5126212  0.49712005 0.36450177 1.5711439  0.35210454 1.7689295 ]\n",
      " [1.1497662  0.90473753 0.61049134 0.85517436 1.7718942  1.6929398\n",
      "  1.7047873  1.2701364  1.0482332  1.6529882  1.4795692  1.7458422\n",
      "  0.9383366  1.3252405  1.708544   0.2380687  1.141459   0.9981308\n",
      "  0.89160323 1.5266638  0.79923856 0.9583179  1.1081749  0.5804169 ]\n",
      " [0.22281207 1.6167874  1.7562597  0.96758115 1.184945   1.4370146\n",
      "  1.3531735  1.6100576  1.9249058  1.1255237  0.65776104 0.7529499\n",
      "  1.1929994  1.2243731  0.8888605  0.7896335  0.30238327 0.4798728\n",
      "  1.451406   0.7026719  1.6962552  1.8304856  1.1978984  0.77085364]\n",
      " [0.8153858  1.378716   0.54030865 1.6327767  1.3340629  0.7997673\n",
      "  1.4373358  0.92337435 0.8771603  0.60373074 1.1654866  0.8258705\n",
      "  0.71122533 0.6185085  0.6175121  1.4978933  0.8726814  1.1127875\n",
      "  0.87319887 0.51509213 1.5004973  0.6068319  1.6648297  1.2770565 ]\n",
      " [1.3110889  0.99544644 1.4401706  1.1959414  0.25322524 1.5685077\n",
      "  0.16156274 0.92514455 0.892448   0.51190037 0.91010714 0.8323515\n",
      "  1.1131145  0.9901191  1.6135149  0.67361265 0.78094596 1.7927866\n",
      "  0.9347539  0.96553457 1.8743932  1.179635   1.1647027  0.9511869 ]\n",
      " [0.88194126 1.0189778  0.51796424 1.0971268  0.9049556  0.5250181\n",
      "  1.1798804  1.3517509  0.2679048  0.78435344 0.7203942  1.6461496\n",
      "  0.62860763 0.6598731  1.3046576  0.91461617 0.974758   1.296537\n",
      "  0.8198813  1.1624708  0.933814   1.3336682  1.2379494  1.1949514 ]\n",
      " [0.79617035 1.4760383  0.5215071  0.95977855 0.35223413 1.6945541\n",
      "  0.97547185 1.2899973  1.1875635  0.92518246 0.38813257 0.86299944\n",
      "  1.0520307  1.4184382  1.1813464  1.0857987  1.6617231  1.184762\n",
      "  1.1026292  1.0205002  1.0570467  1.2618872  0.7954553  0.94342947]]\n",
      "Sad =  0.0\n"
     ]
    }
   ],
   "source": [
    "#Compute reference using Numpy\n",
    "c_ref = a + b\n",
    "\n",
    "#Print result\n",
    "print(\"C   = \", c)\n",
    "print(\"Ref = \", c_ref)\n",
    "print(\"Sad = \", np.sum(np.abs(c - c_ref)))"
   ]
  },
  {
   "cell_type": "code",
   "execution_count": 61,
   "metadata": {},
   "outputs": [
    {
     "data": {
      "text/plain": [
       "<matplotlib.image.AxesImage at 0x7fe0d121dbe0>"
      ]
     },
     "execution_count": 61,
     "metadata": {},
     "output_type": "execute_result"
    },
    {
     "data": {
      "image/png": "[encoded data removed]",
      "text/plain": [
       "<matplotlib.figure.Figure at 0x7fe0d1303f98>"
      ]
     },
     "metadata": {
      "needs_background": "light"
     },
     "output_type": "display_data"
    }
   ],
   "source": [
    "fig = plt.figure(figsize=(12, 8))\n",
    "plt.subplot(1, 2, 1)\n",
    "plt.imshow(c)\n",
    "plt.subplot(1, 2, 2)\n",
    "plt.imshow(c_ref)"
   ]
  },
  {
   "cell_type": "raw",
   "metadata": {},
   "source": []
  },
  {
   "cell_type": "code",
   "execution_count": null,
   "metadata": {},
   "outputs": [],
   "source": []
  }
 ],
 "metadata": {
  "kernelspec": {
   "display_name": "Python 3",
   "language": "python",
   "name": "python3"
  },
  "language_info": {
   "codemirror_mode": {
    "name": "ipython",
    "version": 3
   },
   "file_extension": ".py",
   "mimetype": "text/x-python",
   "name": "python",
   "nbconvert_exporter": "python",
   "pygments_lexer": "ipython3",
   "version": "3.6.6"
  }
 },
 "nbformat": 4,
 "nbformat_minor": 2
}
